{
 "cells": [
  {
   "cell_type": "code",
   "execution_count": 1,
   "id": "18eac3b9",
   "metadata": {},
   "outputs": [
    {
     "name": "stdout",
     "output_type": "stream",
     "text": [
      "Index(['Main_Category', 'Longitude', 'Latitude', 'Day', 'duration',\n",
      "       'Primary_Vehicle', 'Secondary_Vehicle', 'Is_Major_Incident', 'Advice_A',\n",
      "       'Advice_B', 'Closure_Type', 'Direction', 'Main_Street',\n",
      "       'Affected_Lanes', 'Actual_Number_of_Lanes ', 'Suburb', 'Traffic_Volume',\n",
      "       'SA2_CODE21', 'SA3_CODE21', 'SA3_NAME21', 'SA4_CODE21', 'SA4_NAME21',\n",
      "       'AREASQKM21', '0_ZID', '1_Area', '2_ML', '3_TRL', '4_PRL', '5_SRL',\n",
      "       '6_TrRL', '7_RRL', '8_LsRL', '9_URL', '10_ToRL', '11_EoR', '12_NoN',\n",
      "       '13_NDEs', '14_NNC2L', '15_NNC3L', '16_NNC4L', '17_AND', '18_NE',\n",
      "       '19_MCI', '20_CoI', '21 NBS', '22_CA', '23_EA', '24_HA', '25_IA',\n",
      "       '26_OA', '27_PA', '28_PrA', '29_RA', '30_TA', '31_WbA', '32_EoLU',\n",
      "       '33_TP', '34_PD0MV', '35_PD1MV', '36_PD2MV', '37_PD3MV', '38_PD≥4MV',\n",
      "       '39_PUE', '40_AMI', '41_NPTtWbyPT', '42_NPTtWbyTx', '43_NPTtWbyCD',\n",
      "       '44_NPTtWbyCP', '45_NPTtWbyO', '46_NPWfH', '47_PWCJH', '48_PBCJH',\n",
      "       '49_ANP_FH', 'RMS', 'Motorway Crew', 'Mechanic', 'Emergency service(s)',\n",
      "       'Tow Truck', 'Motorway crew', 'Emergency services', 'Transport for NSW',\n",
      "       'Tow truck', 'Heavy vehicle tow truck', 'Incident_Type',\n",
      "       'Num_Vehicles_Involved', 'Month', 'Hour', 'distance_to_CBD'],\n",
      "      dtype='object')\n"
     ]
    },
    {
     "name": "stderr",
     "output_type": "stream",
     "text": [
      "C:\\Python3\\lib\\site-packages\\sklearn\\base.py:439: UserWarning: X does not have valid feature names, but IsolationForest was fitted with feature names\n",
      "  warnings.warn(\n"
     ]
    }
   ],
   "source": [
    "import pandas as pd\n",
    "import numpy as np\n",
    "import matplotlib.pyplot as plt\n",
    "import time\n",
    "\n",
    "from sklearn.model_selection import train_test_split\n",
    "from sklearn.preprocessing import StandardScaler\n",
    "from sklearn.metrics import mean_absolute_error\n",
    "from tensorflow import keras\n",
    "from tensorflow.keras import layers\n",
    "import ast  # Library for handling literal_eval\n",
    "from geopy.distance import geodesic\n",
    "from sklearn.ensemble import IsolationForest\n",
    "\n",
    "# Load the dataset\n",
    "df = pd.read_csv('merged.csv')\n",
    "df = df.dropna()\n",
    "\n",
    "# Print the column names to verify\n",
    "print(df.columns)\n",
    "\n",
    "# Setup the Isolation Forest\n",
    "iso_forest = IsolationForest(n_estimators=500, contamination=0.01, random_state=42)\n",
    "# Fit on the 'duration' column, you may want to reshape it if it's a Series\n",
    "df['anomaly'] = iso_forest.fit_predict(df[['duration']])\n",
    "\n",
    "# Filter out the outliers\n",
    "df = df[df['anomaly'] == 1]  # Keep only normal data points\n",
    "df.drop(columns='anomaly', inplace=True)  # Clean up by dropping the anomaly column"
   ]
  },
  {
   "cell_type": "code",
   "execution_count": 2,
   "id": "7cc961f4",
   "metadata": {},
   "outputs": [
    {
     "name": "stderr",
     "output_type": "stream",
     "text": [
      "C:\\Python3\\lib\\site-packages\\lifelines\\fitters\\__init__.py:2097: StatisticalWarning: The diagonal of the variance_matrix_ has negative values. This could be a problem with LogLogisticAFTFitter's fit to the data.\n",
      "\n",
      "It's advisable to not trust the variances reported, and to be suspicious of the fitted parameters too.\n",
      "\n",
      "  warnings.warn(warning_text, exceptions.StatisticalWarning)\n"
     ]
    },
    {
     "name": "stdout",
     "output_type": "stream",
     "text": [
      "                                  coef  exp(coef)   se(coef)  coef lower 95%   \n",
      "param  covariate                                                               \n",
      "alpha_ 0_ZID             -1.660854e-09   1.000000        NaN             NaN  \\\n",
      "       10_ToRL            9.381879e-05   1.000094  14.540815      -28.499379   \n",
      "       11_EoR             3.499575e-02   1.035615   0.065299       -0.092987   \n",
      "       12_NoN            -1.343522e-04   0.999866   0.004189       -0.008344   \n",
      "       13_NDEs           -3.767904e-04   0.999623   0.004045       -0.008305   \n",
      "...                                ...        ...        ...             ...   \n",
      "       Traffic_Volume    -8.759689e-02   0.916130   0.002949       -0.093378   \n",
      "       Transport for NSW -1.930375e-01   0.824451   0.007896       -0.208514   \n",
      "       distance_to_CBD    6.108903e-03   1.006128   0.001241        0.003677   \n",
      "       Intercept          3.346612e+00  28.406333        NaN             NaN   \n",
      "beta_  Intercept          7.124133e-01   2.038906   0.002980        0.706573   \n",
      "\n",
      "                          coef upper 95%  exp(coef) lower 95%   \n",
      "param  covariate                                                \n",
      "alpha_ 0_ZID                         NaN                  NaN  \\\n",
      "       10_ToRL                 28.499567         4.196400e-13   \n",
      "       11_EoR                   0.162979         9.112053e-01   \n",
      "       12_NoN                   0.008076         9.916903e-01   \n",
      "       13_NDEs                  0.007552         9.917291e-01   \n",
      "...                                  ...                  ...   \n",
      "       Traffic_Volume          -0.081816         9.108495e-01   \n",
      "       Transport for NSW       -0.177561         8.117895e-01   \n",
      "       distance_to_CBD          0.008541         1.003684e+00   \n",
      "       Intercept                     NaN                  NaN   \n",
      "beta_  Intercept                0.718253         2.027033e+00   \n",
      "\n",
      "                          exp(coef) upper 95%  cmp to           z   \n",
      "param  covariate                                                    \n",
      "alpha_ 0_ZID                              NaN     0.0         NaN  \\\n",
      "       10_ToRL                   2.383442e+12     0.0    0.000006   \n",
      "       11_EoR                    1.177011e+00     0.0    0.535934   \n",
      "       12_NoN                    1.008108e+00     0.0   -0.032074   \n",
      "       13_NDEs                   1.007580e+00     0.0   -0.093145   \n",
      "...                                       ...     ...         ...   \n",
      "       Traffic_Volume            9.214413e-01     0.0  -29.699941   \n",
      "       Transport for NSW         8.373100e-01     0.0  -24.446272   \n",
      "       distance_to_CBD           1.008578e+00     0.0    4.923083   \n",
      "       Intercept                          NaN     0.0         NaN   \n",
      "beta_  Intercept                 2.050848e+00     0.0  239.094953   \n",
      "\n",
      "                                      p    -log2(p)  \n",
      "param  covariate                                     \n",
      "alpha_ 0_ZID                        NaN         NaN  \n",
      "       10_ToRL             9.999949e-01    0.000007  \n",
      "       11_EoR              5.920039e-01    0.756321  \n",
      "       12_NoN              9.744133e-01    0.037394  \n",
      "       13_NDEs             9.257886e-01    0.111245  \n",
      "...                                 ...         ...  \n",
      "       Traffic_Volume     7.692097e-194  641.510674  \n",
      "       Transport for NSW  5.513502e-132  436.031540  \n",
      "       distance_to_CBD     8.519123e-07   20.162792  \n",
      "       Intercept                    NaN         NaN  \n",
      "beta_  Intercept           0.000000e+00         inf  \n",
      "\n",
      "[88 rows x 11 columns]\n"
     ]
    }
   ],
   "source": [
    "import pandas as pd\n",
    "from lifelines import LogLogisticAFTFitter\n",
    "import matplotlib.pyplot as plt\n",
    "\n",
    "df = df[df.duration>1]\n",
    "\n",
    "aft = LogLogisticAFTFitter()\n",
    "aft.fit(df, 'duration', event_col='Hour')\n",
    "\n",
    "print(aft.summary)"
   ]
  },
  {
   "cell_type": "code",
   "execution_count": 4,
   "id": "ba58051b",
   "metadata": {},
   "outputs": [],
   "source": [
    "aft.summary.round(3).to_csv('LogLogisticAFTFitter_Summary.csv')"
   ]
  },
  {
   "cell_type": "code",
   "execution_count": null,
   "id": "0b6368e1",
   "metadata": {},
   "outputs": [],
   "source": []
  }
 ],
 "metadata": {
  "kernelspec": {
   "display_name": "Python 3 (ipykernel)",
   "language": "python",
   "name": "python3"
  },
  "language_info": {
   "codemirror_mode": {
    "name": "ipython",
    "version": 3
   },
   "file_extension": ".py",
   "mimetype": "text/x-python",
   "name": "python",
   "nbconvert_exporter": "python",
   "pygments_lexer": "ipython3",
   "version": "3.10.9"
  }
 },
 "nbformat": 4,
 "nbformat_minor": 5
}
