{
 "cells": [
  {
   "cell_type": "code",
   "execution_count": 26,
   "id": "0e110095",
   "metadata": {},
   "outputs": [
    {
     "name": "stdout",
     "output_type": "stream",
     "text": [
      "Index(['Main_Category', 'Longitude', 'Latitude', 'Day', 'duration',\n",
      "       'Primary_Vehicle', 'Secondary_Vehicle', 'Is_Major_Incident', 'Advice_A',\n",
      "       'Advice_B', 'Closure_Type', 'Direction', 'Main_Street',\n",
      "       'Affected_Lanes', 'Actual_Number_of_Lanes ', 'Suburb', 'Traffic_Volume',\n",
      "       'SA2_CODE21', 'SA3_CODE21', 'SA3_NAME21', 'SA4_CODE21', 'SA4_NAME21',\n",
      "       'AREASQKM21', '0_ZID', '1_Area', '2_ML', '3_TRL', '4_PRL', '5_SRL',\n",
      "       '6_TrRL', '7_RRL', '8_LsRL', '9_URL', '10_ToRL', '11_EoR', '12_NoN',\n",
      "       '13_NDEs', '14_NNC2L', '15_NNC3L', '16_NNC4L', '17_AND', '18_NE',\n",
      "       '19_MCI', '20_CoI', '21 NBS', '22_CA', '23_EA', '24_HA', '25_IA',\n",
      "       '26_OA', '27_PA', '28_PrA', '29_RA', '30_TA', '31_WbA', '32_EoLU',\n",
      "       '33_TP', '34_PD0MV', '35_PD1MV', '36_PD2MV', '37_PD3MV', '38_PD≥4MV',\n",
      "       '39_PUE', '40_AMI', '41_NPTtWbyPT', '42_NPTtWbyTx', '43_NPTtWbyCD',\n",
      "       '44_NPTtWbyCP', '45_NPTtWbyO', '46_NPWfH', '47_PWCJH', '48_PBCJH',\n",
      "       '49_ANP_FH', 'RMS', 'Motorway Crew', 'Mechanic', 'Emergency service(s)',\n",
      "       'Tow Truck', 'Motorway crew', 'Emergency services', 'Transport for NSW',\n",
      "       'Tow truck', 'Heavy vehicle tow truck', 'Incident_Type',\n",
      "       'Num_Vehicles_Involved', 'Month', 'Hour', 'distance_to_CBD'],\n",
      "      dtype='object')\n"
     ]
    },
    {
     "name": "stderr",
     "output_type": "stream",
     "text": [
      "C:\\Python3\\lib\\site-packages\\sklearn\\base.py:439: UserWarning: X does not have valid feature names, but IsolationForest was fitted with feature names\n",
      "  warnings.warn(\n"
     ]
    }
   ],
   "source": [
    "import pandas as pd\n",
    "import numpy as np\n",
    "import matplotlib.pyplot as plt\n",
    "import time\n",
    "\n",
    "from sklearn.model_selection import train_test_split\n",
    "from sklearn.preprocessing import StandardScaler\n",
    "from sklearn.metrics import mean_absolute_error\n",
    "from tensorflow import keras\n",
    "from tensorflow.keras import layers\n",
    "import ast  # Library for handling literal_eval\n",
    "from geopy.distance import geodesic\n",
    "from sklearn.ensemble import IsolationForest\n",
    "\n",
    "# Load the dataset\n",
    "df = pd.read_csv('merged.csv')\n",
    "df = df.dropna()\n",
    "\n",
    "# Print the column names to verify\n",
    "print(df.columns)\n",
    "\n",
    "# Setup the Isolation Forest\n",
    "iso_forest = IsolationForest(n_estimators=800, contamination=0.01, random_state=42)\n",
    "# Fit on the 'duration' column, you may want to reshape it if it's a Series\n",
    "df['anomaly'] = iso_forest.fit_predict(df[['duration']])\n",
    "\n",
    "# Filter out the outliers\n",
    "df = df[df['anomaly'] == 1]  # Keep only normal data points\n",
    "df.drop(columns='anomaly', inplace=True)  # Clean up by dropping the anomaly column"
   ]
  },
  {
   "cell_type": "code",
   "execution_count": 37,
   "id": "bda1e8c9",
   "metadata": {},
   "outputs": [
    {
     "data": {
      "text/html": [
       "<div>\n",
       "<style scoped>\n",
       "    .dataframe tbody tr th:only-of-type {\n",
       "        vertical-align: middle;\n",
       "    }\n",
       "\n",
       "    .dataframe tbody tr th {\n",
       "        vertical-align: top;\n",
       "    }\n",
       "\n",
       "    .dataframe thead th {\n",
       "        text-align: right;\n",
       "    }\n",
       "</style>\n",
       "<table border=\"1\" class=\"dataframe\">\n",
       "  <thead>\n",
       "    <tr style=\"text-align: right;\">\n",
       "      <th></th>\n",
       "      <th>Main_Category</th>\n",
       "      <th>Longitude</th>\n",
       "      <th>Latitude</th>\n",
       "      <th>Day</th>\n",
       "      <th>duration</th>\n",
       "      <th>Primary_Vehicle</th>\n",
       "      <th>Secondary_Vehicle</th>\n",
       "      <th>Is_Major_Incident</th>\n",
       "      <th>Advice_A</th>\n",
       "      <th>Advice_B</th>\n",
       "      <th>...</th>\n",
       "      <th>Motorway crew</th>\n",
       "      <th>Emergency services</th>\n",
       "      <th>Transport for NSW</th>\n",
       "      <th>Tow truck</th>\n",
       "      <th>Heavy vehicle tow truck</th>\n",
       "      <th>Incident_Type</th>\n",
       "      <th>Num_Vehicles_Involved</th>\n",
       "      <th>Month</th>\n",
       "      <th>Hour</th>\n",
       "      <th>distance_to_CBD</th>\n",
       "    </tr>\n",
       "  </thead>\n",
       "  <tbody>\n",
       "    <tr>\n",
       "      <th>0</th>\n",
       "      <td>1</td>\n",
       "      <td>151.058</td>\n",
       "      <td>-33.9431</td>\n",
       "      <td>5</td>\n",
       "      <td>39.319950</td>\n",
       "      <td>1</td>\n",
       "      <td>2</td>\n",
       "      <td>0</td>\n",
       "      <td>10</td>\n",
       "      <td>0</td>\n",
       "      <td>...</td>\n",
       "      <td>0</td>\n",
       "      <td>1</td>\n",
       "      <td>0</td>\n",
       "      <td>0</td>\n",
       "      <td>0</td>\n",
       "      <td>0</td>\n",
       "      <td>2</td>\n",
       "      <td>8</td>\n",
       "      <td>19</td>\n",
       "      <td>15.781064</td>\n",
       "    </tr>\n",
       "    <tr>\n",
       "      <th>1</th>\n",
       "      <td>0</td>\n",
       "      <td>151.159</td>\n",
       "      <td>-33.8096</td>\n",
       "      <td>6</td>\n",
       "      <td>12.029000</td>\n",
       "      <td>1</td>\n",
       "      <td>9</td>\n",
       "      <td>0</td>\n",
       "      <td>10</td>\n",
       "      <td>134</td>\n",
       "      <td>...</td>\n",
       "      <td>0</td>\n",
       "      <td>0</td>\n",
       "      <td>0</td>\n",
       "      <td>0</td>\n",
       "      <td>0</td>\n",
       "      <td>1</td>\n",
       "      <td>1</td>\n",
       "      <td>8</td>\n",
       "      <td>0</td>\n",
       "      <td>8.323913</td>\n",
       "    </tr>\n",
       "    <tr>\n",
       "      <th>2</th>\n",
       "      <td>1</td>\n",
       "      <td>150.875</td>\n",
       "      <td>-33.7344</td>\n",
       "      <td>6</td>\n",
       "      <td>16.956667</td>\n",
       "      <td>1</td>\n",
       "      <td>9</td>\n",
       "      <td>0</td>\n",
       "      <td>26</td>\n",
       "      <td>134</td>\n",
       "      <td>...</td>\n",
       "      <td>0</td>\n",
       "      <td>1</td>\n",
       "      <td>0</td>\n",
       "      <td>0</td>\n",
       "      <td>0</td>\n",
       "      <td>0</td>\n",
       "      <td>1</td>\n",
       "      <td>8</td>\n",
       "      <td>1</td>\n",
       "      <td>34.354983</td>\n",
       "    </tr>\n",
       "    <tr>\n",
       "      <th>3</th>\n",
       "      <td>1</td>\n",
       "      <td>150.973</td>\n",
       "      <td>-33.8172</td>\n",
       "      <td>6</td>\n",
       "      <td>42.804117</td>\n",
       "      <td>5</td>\n",
       "      <td>2</td>\n",
       "      <td>0</td>\n",
       "      <td>10</td>\n",
       "      <td>0</td>\n",
       "      <td>...</td>\n",
       "      <td>0</td>\n",
       "      <td>1</td>\n",
       "      <td>1</td>\n",
       "      <td>0</td>\n",
       "      <td>0</td>\n",
       "      <td>0</td>\n",
       "      <td>1</td>\n",
       "      <td>8</td>\n",
       "      <td>1</td>\n",
       "      <td>22.500677</td>\n",
       "    </tr>\n",
       "    <tr>\n",
       "      <th>4</th>\n",
       "      <td>1</td>\n",
       "      <td>150.981</td>\n",
       "      <td>-33.7919</td>\n",
       "      <td>6</td>\n",
       "      <td>40.840000</td>\n",
       "      <td>3</td>\n",
       "      <td>4</td>\n",
       "      <td>0</td>\n",
       "      <td>10</td>\n",
       "      <td>134</td>\n",
       "      <td>...</td>\n",
       "      <td>0</td>\n",
       "      <td>0</td>\n",
       "      <td>0</td>\n",
       "      <td>0</td>\n",
       "      <td>0</td>\n",
       "      <td>0</td>\n",
       "      <td>3</td>\n",
       "      <td>8</td>\n",
       "      <td>1</td>\n",
       "      <td>22.753003</td>\n",
       "    </tr>\n",
       "    <tr>\n",
       "      <th>...</th>\n",
       "      <td>...</td>\n",
       "      <td>...</td>\n",
       "      <td>...</td>\n",
       "      <td>...</td>\n",
       "      <td>...</td>\n",
       "      <td>...</td>\n",
       "      <td>...</td>\n",
       "      <td>...</td>\n",
       "      <td>...</td>\n",
       "      <td>...</td>\n",
       "      <td>...</td>\n",
       "      <td>...</td>\n",
       "      <td>...</td>\n",
       "      <td>...</td>\n",
       "      <td>...</td>\n",
       "      <td>...</td>\n",
       "      <td>...</td>\n",
       "      <td>...</td>\n",
       "      <td>...</td>\n",
       "      <td>...</td>\n",
       "      <td>...</td>\n",
       "    </tr>\n",
       "    <tr>\n",
       "      <th>85606</th>\n",
       "      <td>0</td>\n",
       "      <td>151.193</td>\n",
       "      <td>-33.8877</td>\n",
       "      <td>5</td>\n",
       "      <td>0.073550</td>\n",
       "      <td>1</td>\n",
       "      <td>8</td>\n",
       "      <td>0</td>\n",
       "      <td>26</td>\n",
       "      <td>134</td>\n",
       "      <td>...</td>\n",
       "      <td>0</td>\n",
       "      <td>0</td>\n",
       "      <td>0</td>\n",
       "      <td>1</td>\n",
       "      <td>0</td>\n",
       "      <td>1</td>\n",
       "      <td>1</td>\n",
       "      <td>8</td>\n",
       "      <td>8</td>\n",
       "      <td>2.041047</td>\n",
       "    </tr>\n",
       "    <tr>\n",
       "      <th>85607</th>\n",
       "      <td>1</td>\n",
       "      <td>151.054</td>\n",
       "      <td>-33.7991</td>\n",
       "      <td>6</td>\n",
       "      <td>0.000000</td>\n",
       "      <td>6</td>\n",
       "      <td>8</td>\n",
       "      <td>0</td>\n",
       "      <td>26</td>\n",
       "      <td>134</td>\n",
       "      <td>...</td>\n",
       "      <td>0</td>\n",
       "      <td>0</td>\n",
       "      <td>0</td>\n",
       "      <td>1</td>\n",
       "      <td>0</td>\n",
       "      <td>0</td>\n",
       "      <td>2</td>\n",
       "      <td>8</td>\n",
       "      <td>4</td>\n",
       "      <td>16.348803</td>\n",
       "    </tr>\n",
       "    <tr>\n",
       "      <th>85608</th>\n",
       "      <td>1</td>\n",
       "      <td>151.066</td>\n",
       "      <td>-33.7527</td>\n",
       "      <td>6</td>\n",
       "      <td>0.000000</td>\n",
       "      <td>3</td>\n",
       "      <td>8</td>\n",
       "      <td>0</td>\n",
       "      <td>3</td>\n",
       "      <td>134</td>\n",
       "      <td>...</td>\n",
       "      <td>0</td>\n",
       "      <td>0</td>\n",
       "      <td>0</td>\n",
       "      <td>0</td>\n",
       "      <td>0</td>\n",
       "      <td>0</td>\n",
       "      <td>3</td>\n",
       "      <td>8</td>\n",
       "      <td>4</td>\n",
       "      <td>18.664398</td>\n",
       "    </tr>\n",
       "    <tr>\n",
       "      <th>85609</th>\n",
       "      <td>0</td>\n",
       "      <td>151.154</td>\n",
       "      <td>-33.7587</td>\n",
       "      <td>6</td>\n",
       "      <td>0.000000</td>\n",
       "      <td>5</td>\n",
       "      <td>8</td>\n",
       "      <td>0</td>\n",
       "      <td>3</td>\n",
       "      <td>134</td>\n",
       "      <td>...</td>\n",
       "      <td>0</td>\n",
       "      <td>0</td>\n",
       "      <td>0</td>\n",
       "      <td>0</td>\n",
       "      <td>0</td>\n",
       "      <td>1</td>\n",
       "      <td>1</td>\n",
       "      <td>8</td>\n",
       "      <td>4</td>\n",
       "      <td>13.608235</td>\n",
       "    </tr>\n",
       "    <tr>\n",
       "      <th>85610</th>\n",
       "      <td>0</td>\n",
       "      <td>151.196</td>\n",
       "      <td>-33.9220</td>\n",
       "      <td>6</td>\n",
       "      <td>0.000000</td>\n",
       "      <td>0</td>\n",
       "      <td>8</td>\n",
       "      <td>0</td>\n",
       "      <td>10</td>\n",
       "      <td>14</td>\n",
       "      <td>...</td>\n",
       "      <td>0</td>\n",
       "      <td>0</td>\n",
       "      <td>0</td>\n",
       "      <td>0</td>\n",
       "      <td>0</td>\n",
       "      <td>1</td>\n",
       "      <td>1</td>\n",
       "      <td>8</td>\n",
       "      <td>4</td>\n",
       "      <td>5.496973</td>\n",
       "    </tr>\n",
       "  </tbody>\n",
       "</table>\n",
       "<p>81970 rows × 88 columns</p>\n",
       "</div>"
      ],
      "text/plain": [
       "       Main_Category  Longitude  Latitude  Day   duration  Primary_Vehicle   \n",
       "0                  1    151.058  -33.9431    5  39.319950                1  \\\n",
       "1                  0    151.159  -33.8096    6  12.029000                1   \n",
       "2                  1    150.875  -33.7344    6  16.956667                1   \n",
       "3                  1    150.973  -33.8172    6  42.804117                5   \n",
       "4                  1    150.981  -33.7919    6  40.840000                3   \n",
       "...              ...        ...       ...  ...        ...              ...   \n",
       "85606              0    151.193  -33.8877    5   0.073550                1   \n",
       "85607              1    151.054  -33.7991    6   0.000000                6   \n",
       "85608              1    151.066  -33.7527    6   0.000000                3   \n",
       "85609              0    151.154  -33.7587    6   0.000000                5   \n",
       "85610              0    151.196  -33.9220    6   0.000000                0   \n",
       "\n",
       "       Secondary_Vehicle  Is_Major_Incident  Advice_A  Advice_B  ...   \n",
       "0                      2                  0        10         0  ...  \\\n",
       "1                      9                  0        10       134  ...   \n",
       "2                      9                  0        26       134  ...   \n",
       "3                      2                  0        10         0  ...   \n",
       "4                      4                  0        10       134  ...   \n",
       "...                  ...                ...       ...       ...  ...   \n",
       "85606                  8                  0        26       134  ...   \n",
       "85607                  8                  0        26       134  ...   \n",
       "85608                  8                  0         3       134  ...   \n",
       "85609                  8                  0         3       134  ...   \n",
       "85610                  8                  0        10        14  ...   \n",
       "\n",
       "       Motorway crew  Emergency services  Transport for NSW  Tow truck   \n",
       "0                  0                   1                  0          0  \\\n",
       "1                  0                   0                  0          0   \n",
       "2                  0                   1                  0          0   \n",
       "3                  0                   1                  1          0   \n",
       "4                  0                   0                  0          0   \n",
       "...              ...                 ...                ...        ...   \n",
       "85606              0                   0                  0          1   \n",
       "85607              0                   0                  0          1   \n",
       "85608              0                   0                  0          0   \n",
       "85609              0                   0                  0          0   \n",
       "85610              0                   0                  0          0   \n",
       "\n",
       "       Heavy vehicle tow truck  Incident_Type  Num_Vehicles_Involved  Month   \n",
       "0                            0              0                      2      8  \\\n",
       "1                            0              1                      1      8   \n",
       "2                            0              0                      1      8   \n",
       "3                            0              0                      1      8   \n",
       "4                            0              0                      3      8   \n",
       "...                        ...            ...                    ...    ...   \n",
       "85606                        0              1                      1      8   \n",
       "85607                        0              0                      2      8   \n",
       "85608                        0              0                      3      8   \n",
       "85609                        0              1                      1      8   \n",
       "85610                        0              1                      1      8   \n",
       "\n",
       "       Hour  distance_to_CBD  \n",
       "0        19        15.781064  \n",
       "1         0         8.323913  \n",
       "2         1        34.354983  \n",
       "3         1        22.500677  \n",
       "4         1        22.753003  \n",
       "...     ...              ...  \n",
       "85606     8         2.041047  \n",
       "85607     4        16.348803  \n",
       "85608     4        18.664398  \n",
       "85609     4        13.608235  \n",
       "85610     4         5.496973  \n",
       "\n",
       "[81970 rows x 88 columns]"
      ]
     },
     "execution_count": 37,
     "metadata": {},
     "output_type": "execute_result"
    }
   ],
   "source": [
    "df"
   ]
  },
  {
   "cell_type": "code",
   "execution_count": 39,
   "id": "49620a15",
   "metadata": {},
   "outputs": [
    {
     "name": "stdout",
     "output_type": "stream",
     "text": [
      "Script started...\n",
      "Starting model training and evaluation...\n",
      "Training model: XGBoost Classifier\n"
     ]
    },
    {
     "name": "stderr",
     "output_type": "stream",
     "text": [
      "`use_label_encoder` is deprecated in 1.7.0.\n"
     ]
    },
    {
     "name": "stdout",
     "output_type": "stream",
     "text": [
      "Accuracy for XGBoost Classifier: 0.683725753324387, F1 Score: 0.5691016371644644\n",
      "Training model: LightGBM Classifier\n",
      "Accuracy for LightGBM Classifier: 0.694888373795291, F1 Score: 0.5743703199455412\n",
      "Training model: Random Forest Classifier\n",
      "Accuracy for Random Forest Classifier: 0.6710991826277907, F1 Score: 0.5338059830537782\n",
      "Training model: Extra Trees Classifier\n",
      "Accuracy for Extra Trees Classifier: 0.6596925704526047, F1 Score: 0.5309794031105506\n",
      "Training model: Decision Tree Classifier\n",
      "Accuracy for Decision Tree Classifier: 0.605587410028059, F1 Score: 0.5148559423769506\n",
      "Plotting model performance...\n",
      "Model performance plot saved as 'model_performance_classification_metrics.pdf'.\n",
      "Script completed successfully.\n"
     ]
    },
    {
     "data": {
      "image/png": "[encoded data removed]",
      "text/plain": [
       "<Figure size 700x500 with 2 Axes>"
      ]
     },
     "metadata": {},
     "output_type": "display_data"
    }
   ],
   "source": [
    "import pandas as pd\n",
    "import numpy as np\n",
    "import matplotlib.pyplot as plt\n",
    "from sklearn.model_selection import train_test_split\n",
    "from sklearn.preprocessing import StandardScaler\n",
    "from sklearn.metrics import accuracy_score, f1_score\n",
    "from sklearn.ensemble import RandomForestClassifier, ExtraTreesClassifier\n",
    "from sklearn.tree import DecisionTreeClassifier\n",
    "from xgboost import XGBClassifier\n",
    "from lightgbm import LGBMClassifier\n",
    "\n",
    "def train_models_and_plot(names, models, X_train, X_test, y_train, y_test):\n",
    "    print(\"Starting model training and evaluation...\")\n",
    "#     scaler = StandardScaler()\n",
    "#     X_train = scaler.fit_transform(X_train)\n",
    "#     X_test = scaler.transform(X_test)\n",
    "    \n",
    "    performances = []\n",
    "    for name, model in zip(names, models):\n",
    "        print(f\"Training model: {name}\")\n",
    "        model.fit(X_train, y_train)\n",
    "        y_pred = model.predict(X_test)\n",
    "        accuracy = accuracy_score(y_test, y_pred)\n",
    "        f1 = f1_score(y_test, y_pred, average='binary')  # Use 'binary' for binary classification\n",
    "        print(f\"Accuracy for {name}: {accuracy}, F1 Score: {f1}\")\n",
    "        performances.append((name, accuracy, f1))\n",
    "    \n",
    "    perf_df = pd.DataFrame(performances, columns=['Model', 'Accuracy', 'F1 Score'])\n",
    "    print(\"Plotting model performance...\")\n",
    "\n",
    "    # Creating a single figure with two subplots (vertically arranged)\n",
    "    fig, ax = plt.subplots(1, 2, figsize=(7, 5))\n",
    "    \n",
    "    # Plot for Accuracy\n",
    "    ax[0].bar(perf_df['Model'], perf_df['Accuracy'], color='blue')\n",
    "    ax[0].set_title('Accuracy by Model')\n",
    "    ax[0].set_ylabel('Accuracy')\n",
    "    ax[0].set_ylim([0, 1])\n",
    "    ax[0].grid(True)  # Enable grid\n",
    "    for tick in ax[0].get_xticklabels():\n",
    "        tick.set_rotation(90)  # Rotate model names for better readability\n",
    "    \n",
    "    # Plot for F1 Score\n",
    "    ax[1].bar(perf_df['Model'], perf_df['F1 Score'], color='green')\n",
    "    ax[1].set_title('F1 Score by Model')\n",
    "    ax[1].set_ylabel('F1 Score')\n",
    "    ax[1].set_ylim([0, 1])\n",
    "    ax[1].grid(True)  # Enable grid\n",
    "    for tick in ax[1].get_xticklabels():\n",
    "        tick.set_rotation(90)  # Rotate model names for better readability\n",
    "    \n",
    "    plt.tight_layout()  # Adjust layout to not overlap\n",
    "    plt.savefig('model_performance_classification_metrics.pdf')\n",
    "    print(\"Model performance plot saved as 'model_performance_classification_metrics.pdf'.\")\n",
    "\n",
    "\n",
    "def main():\n",
    "    print(\"Script started...\")\n",
    "    # Example DataFrame creation\n",
    "    # Placeholder for actual data loading logic\n",
    "    \n",
    "    # Assuming df is already defined\n",
    "    # Convert 'duration' into a binary classification target\n",
    "    y = (df['duration'] > 35).astype(int)\n",
    "    X = df.drop(['duration'], axis=1)\n",
    "\n",
    "    # Train-test split\n",
    "    X_train, X_test, y_train, y_test = train_test_split(X, y, test_size=0.2, random_state=42)\n",
    "\n",
    "    # Model names and instances\n",
    "    names = [\"XGBoost Classifier\", \"LightGBM Classifier\", \"Random Forest Classifier\", \"Extra Trees Classifier\", \"Decision Tree Classifier\"]\n",
    "    models = [\n",
    "        XGBClassifier(n_estimators=200, use_label_encoder=False, eval_metric='rmse'),\n",
    "        LGBMClassifier(n_estimators=200, random_state=42),\n",
    "        RandomForestClassifier(n_estimators=200, n_jobs=10, random_state=42),\n",
    "        ExtraTreesClassifier(n_estimators=200, n_jobs=10, random_state=42),\n",
    "        DecisionTreeClassifier(random_state=42)\n",
    "    ]\n",
    "    \n",
    "    train_models_and_plot(names, models, X_train, X_test, y_train, y_test)\n",
    "    \n",
    "    print(\"Script completed successfully.\")\n",
    "\n",
    "if __name__ == '__main__':\n",
    "    main()\n"
   ]
  },
  {
   "cell_type": "code",
   "execution_count": 43,
   "id": "584f8274",
   "metadata": {},
   "outputs": [
    {
     "name": "stdout",
     "output_type": "stream",
     "text": [
      "Script started...\n",
      "Starting model training and evaluation...\n",
      "Training model: XGBoost\n",
      "RMSE for XGBoost: 35.26680666817956\n",
      "R2 Score for XGBoost: 0.11893494375696345\n",
      "MAPE for XGBoost: 4933.7815419717435%\n",
      "Training model: LightGBM\n",
      "RMSE for LightGBM: 35.13570092632458\n",
      "R2 Score for LightGBM: 0.12547355539959648\n",
      "MAPE for LightGBM: 4987.790263074123%\n",
      "Training model: Random Forest\n"
     ]
    },
    {
     "ename": "KeyboardInterrupt",
     "evalue": "",
     "output_type": "error",
     "traceback": [
      "\u001b[1;31m---------------------------------------------------------------------------\u001b[0m",
      "\u001b[1;31mKeyboardInterrupt\u001b[0m                         Traceback (most recent call last)",
      "Cell \u001b[1;32mIn[43], line 147\u001b[0m\n\u001b[0;32m    144\u001b[0m     \u001b[38;5;28mprint\u001b[39m(\u001b[38;5;124m\"\u001b[39m\u001b[38;5;124mScript completed successfully.\u001b[39m\u001b[38;5;124m\"\u001b[39m)\n\u001b[0;32m    146\u001b[0m \u001b[38;5;28;01mif\u001b[39;00m \u001b[38;5;18m__name__\u001b[39m \u001b[38;5;241m==\u001b[39m \u001b[38;5;124m'\u001b[39m\u001b[38;5;124m__main__\u001b[39m\u001b[38;5;124m'\u001b[39m:\n\u001b[1;32m--> 147\u001b[0m     \u001b[43mmain\u001b[49m\u001b[43m(\u001b[49m\u001b[43m)\u001b[49m\n",
      "Cell \u001b[1;32mIn[43], line 137\u001b[0m, in \u001b[0;36mmain\u001b[1;34m()\u001b[0m\n\u001b[0;32m    134\u001b[0m y \u001b[38;5;241m=\u001b[39m np\u001b[38;5;241m.\u001b[39mlog1p(df[\u001b[38;5;124m'\u001b[39m\u001b[38;5;124mduration\u001b[39m\u001b[38;5;124m'\u001b[39m])  \u001b[38;5;66;03m# Apply log1p transformation for regression targets\u001b[39;00m\n\u001b[0;32m    135\u001b[0m X_train, X_test, y_train, y_test \u001b[38;5;241m=\u001b[39m train_test_split(X, y, test_size\u001b[38;5;241m=\u001b[39m\u001b[38;5;241m0.2\u001b[39m, random_state\u001b[38;5;241m=\u001b[39m\u001b[38;5;241m42\u001b[39m)\n\u001b[1;32m--> 137\u001b[0m \u001b[43mtrain_models_and_plot\u001b[49m\u001b[43m(\u001b[49m\u001b[43mnames\u001b[49m\u001b[43m,\u001b[49m\u001b[43m \u001b[49m\u001b[43mmodels\u001b[49m\u001b[43m,\u001b[49m\u001b[43m \u001b[49m\u001b[43mX_train\u001b[49m\u001b[43m,\u001b[49m\u001b[43m \u001b[49m\u001b[43mX_test\u001b[49m\u001b[43m,\u001b[49m\u001b[43m \u001b[49m\u001b[43my_train\u001b[49m\u001b[43m,\u001b[49m\u001b[43m \u001b[49m\u001b[43my_test\u001b[49m\u001b[43m)\u001b[49m\n\u001b[0;32m    139\u001b[0m \u001b[38;5;28;01mfor\u001b[39;00m model, name \u001b[38;5;129;01min\u001b[39;00m \u001b[38;5;28mzip\u001b[39m(models, names):\n\u001b[0;32m    140\u001b[0m     plot_feature_importance(model, X, name)\n",
      "Cell \u001b[1;32mIn[43], line 44\u001b[0m, in \u001b[0;36mtrain_models_and_plot\u001b[1;34m(names, models, X_train, X_test, y_train, y_test)\u001b[0m\n\u001b[0;32m     42\u001b[0m \u001b[38;5;28;01mfor\u001b[39;00m name, model \u001b[38;5;129;01min\u001b[39;00m \u001b[38;5;28mzip\u001b[39m(names, models):\n\u001b[0;32m     43\u001b[0m     \u001b[38;5;28mprint\u001b[39m(\u001b[38;5;124mf\u001b[39m\u001b[38;5;124m\"\u001b[39m\u001b[38;5;124mTraining model: \u001b[39m\u001b[38;5;132;01m{\u001b[39;00mname\u001b[38;5;132;01m}\u001b[39;00m\u001b[38;5;124m\"\u001b[39m)\n\u001b[1;32m---> 44\u001b[0m     \u001b[43mmodel\u001b[49m\u001b[38;5;241;43m.\u001b[39;49m\u001b[43mfit\u001b[49m\u001b[43m(\u001b[49m\u001b[43mX_train\u001b[49m\u001b[43m,\u001b[49m\u001b[43m \u001b[49m\u001b[43my_train\u001b[49m\u001b[43m)\u001b[49m\n\u001b[0;32m     45\u001b[0m     y_pred_full \u001b[38;5;241m=\u001b[39m np\u001b[38;5;241m.\u001b[39mexpm1(model\u001b[38;5;241m.\u001b[39mpredict(X_test))\n\u001b[0;32m     46\u001b[0m     y_pred \u001b[38;5;241m=\u001b[39m y_pred_full[valid_indices]  \u001b[38;5;66;03m# Apply the same filter to predictions\u001b[39;00m\n",
      "File \u001b[1;32mC:\\Python3\\lib\\site-packages\\sklearn\\ensemble\\_forest.py:473\u001b[0m, in \u001b[0;36mBaseForest.fit\u001b[1;34m(self, X, y, sample_weight)\u001b[0m\n\u001b[0;32m    462\u001b[0m trees \u001b[38;5;241m=\u001b[39m [\n\u001b[0;32m    463\u001b[0m     \u001b[38;5;28mself\u001b[39m\u001b[38;5;241m.\u001b[39m_make_estimator(append\u001b[38;5;241m=\u001b[39m\u001b[38;5;28;01mFalse\u001b[39;00m, random_state\u001b[38;5;241m=\u001b[39mrandom_state)\n\u001b[0;32m    464\u001b[0m     \u001b[38;5;28;01mfor\u001b[39;00m i \u001b[38;5;129;01min\u001b[39;00m \u001b[38;5;28mrange\u001b[39m(n_more_estimators)\n\u001b[0;32m    465\u001b[0m ]\n\u001b[0;32m    467\u001b[0m \u001b[38;5;66;03m# Parallel loop: we prefer the threading backend as the Cython code\u001b[39;00m\n\u001b[0;32m    468\u001b[0m \u001b[38;5;66;03m# for fitting the trees is internally releasing the Python GIL\u001b[39;00m\n\u001b[0;32m    469\u001b[0m \u001b[38;5;66;03m# making threading more efficient than multiprocessing in\u001b[39;00m\n\u001b[0;32m    470\u001b[0m \u001b[38;5;66;03m# that case. However, for joblib 0.12+ we respect any\u001b[39;00m\n\u001b[0;32m    471\u001b[0m \u001b[38;5;66;03m# parallel_backend contexts set at a higher level,\u001b[39;00m\n\u001b[0;32m    472\u001b[0m \u001b[38;5;66;03m# since correctness does not rely on using threads.\u001b[39;00m\n\u001b[1;32m--> 473\u001b[0m trees \u001b[38;5;241m=\u001b[39m \u001b[43mParallel\u001b[49m\u001b[43m(\u001b[49m\n\u001b[0;32m    474\u001b[0m \u001b[43m    \u001b[49m\u001b[43mn_jobs\u001b[49m\u001b[38;5;241;43m=\u001b[39;49m\u001b[38;5;28;43mself\u001b[39;49m\u001b[38;5;241;43m.\u001b[39;49m\u001b[43mn_jobs\u001b[49m\u001b[43m,\u001b[49m\n\u001b[0;32m    475\u001b[0m \u001b[43m    \u001b[49m\u001b[43mverbose\u001b[49m\u001b[38;5;241;43m=\u001b[39;49m\u001b[38;5;28;43mself\u001b[39;49m\u001b[38;5;241;43m.\u001b[39;49m\u001b[43mverbose\u001b[49m\u001b[43m,\u001b[49m\n\u001b[0;32m    476\u001b[0m \u001b[43m    \u001b[49m\u001b[43mprefer\u001b[49m\u001b[38;5;241;43m=\u001b[39;49m\u001b[38;5;124;43m\"\u001b[39;49m\u001b[38;5;124;43mthreads\u001b[39;49m\u001b[38;5;124;43m\"\u001b[39;49m\u001b[43m,\u001b[49m\n\u001b[0;32m    477\u001b[0m \u001b[43m\u001b[49m\u001b[43m)\u001b[49m\u001b[43m(\u001b[49m\n\u001b[0;32m    478\u001b[0m \u001b[43m    \u001b[49m\u001b[43mdelayed\u001b[49m\u001b[43m(\u001b[49m\u001b[43m_parallel_build_trees\u001b[49m\u001b[43m)\u001b[49m\u001b[43m(\u001b[49m\n\u001b[0;32m    479\u001b[0m \u001b[43m        \u001b[49m\u001b[43mt\u001b[49m\u001b[43m,\u001b[49m\n\u001b[0;32m    480\u001b[0m \u001b[43m        \u001b[49m\u001b[38;5;28;43mself\u001b[39;49m\u001b[38;5;241;43m.\u001b[39;49m\u001b[43mbootstrap\u001b[49m\u001b[43m,\u001b[49m\n\u001b[0;32m    481\u001b[0m \u001b[43m        \u001b[49m\u001b[43mX\u001b[49m\u001b[43m,\u001b[49m\n\u001b[0;32m    482\u001b[0m \u001b[43m        \u001b[49m\u001b[43my\u001b[49m\u001b[43m,\u001b[49m\n\u001b[0;32m    483\u001b[0m \u001b[43m        \u001b[49m\u001b[43msample_weight\u001b[49m\u001b[43m,\u001b[49m\n\u001b[0;32m    484\u001b[0m \u001b[43m        \u001b[49m\u001b[43mi\u001b[49m\u001b[43m,\u001b[49m\n\u001b[0;32m    485\u001b[0m \u001b[43m        \u001b[49m\u001b[38;5;28;43mlen\u001b[39;49m\u001b[43m(\u001b[49m\u001b[43mtrees\u001b[49m\u001b[43m)\u001b[49m\u001b[43m,\u001b[49m\n\u001b[0;32m    486\u001b[0m \u001b[43m        \u001b[49m\u001b[43mverbose\u001b[49m\u001b[38;5;241;43m=\u001b[39;49m\u001b[38;5;28;43mself\u001b[39;49m\u001b[38;5;241;43m.\u001b[39;49m\u001b[43mverbose\u001b[49m\u001b[43m,\u001b[49m\n\u001b[0;32m    487\u001b[0m \u001b[43m        \u001b[49m\u001b[43mclass_weight\u001b[49m\u001b[38;5;241;43m=\u001b[39;49m\u001b[38;5;28;43mself\u001b[39;49m\u001b[38;5;241;43m.\u001b[39;49m\u001b[43mclass_weight\u001b[49m\u001b[43m,\u001b[49m\n\u001b[0;32m    488\u001b[0m \u001b[43m        \u001b[49m\u001b[43mn_samples_bootstrap\u001b[49m\u001b[38;5;241;43m=\u001b[39;49m\u001b[43mn_samples_bootstrap\u001b[49m\u001b[43m,\u001b[49m\n\u001b[0;32m    489\u001b[0m \u001b[43m    \u001b[49m\u001b[43m)\u001b[49m\n\u001b[0;32m    490\u001b[0m \u001b[43m    \u001b[49m\u001b[38;5;28;43;01mfor\u001b[39;49;00m\u001b[43m \u001b[49m\u001b[43mi\u001b[49m\u001b[43m,\u001b[49m\u001b[43m \u001b[49m\u001b[43mt\u001b[49m\u001b[43m \u001b[49m\u001b[38;5;129;43;01min\u001b[39;49;00m\u001b[43m \u001b[49m\u001b[38;5;28;43menumerate\u001b[39;49m\u001b[43m(\u001b[49m\u001b[43mtrees\u001b[49m\u001b[43m)\u001b[49m\n\u001b[0;32m    491\u001b[0m \u001b[43m\u001b[49m\u001b[43m)\u001b[49m\n\u001b[0;32m    493\u001b[0m \u001b[38;5;66;03m# Collect newly grown trees\u001b[39;00m\n\u001b[0;32m    494\u001b[0m \u001b[38;5;28mself\u001b[39m\u001b[38;5;241m.\u001b[39mestimators_\u001b[38;5;241m.\u001b[39mextend(trees)\n",
      "File \u001b[1;32mC:\\Python3\\lib\\site-packages\\sklearn\\utils\\parallel.py:63\u001b[0m, in \u001b[0;36mParallel.__call__\u001b[1;34m(self, iterable)\u001b[0m\n\u001b[0;32m     58\u001b[0m config \u001b[38;5;241m=\u001b[39m get_config()\n\u001b[0;32m     59\u001b[0m iterable_with_config \u001b[38;5;241m=\u001b[39m (\n\u001b[0;32m     60\u001b[0m     (_with_config(delayed_func, config), args, kwargs)\n\u001b[0;32m     61\u001b[0m     \u001b[38;5;28;01mfor\u001b[39;00m delayed_func, args, kwargs \u001b[38;5;129;01min\u001b[39;00m iterable\n\u001b[0;32m     62\u001b[0m )\n\u001b[1;32m---> 63\u001b[0m \u001b[38;5;28;01mreturn\u001b[39;00m \u001b[38;5;28;43msuper\u001b[39;49m\u001b[43m(\u001b[49m\u001b[43m)\u001b[49m\u001b[38;5;241;43m.\u001b[39;49m\u001b[38;5;21;43m__call__\u001b[39;49m\u001b[43m(\u001b[49m\u001b[43miterable_with_config\u001b[49m\u001b[43m)\u001b[49m\n",
      "File \u001b[1;32mC:\\Python3\\lib\\site-packages\\joblib\\parallel.py:1098\u001b[0m, in \u001b[0;36mParallel.__call__\u001b[1;34m(self, iterable)\u001b[0m\n\u001b[0;32m   1095\u001b[0m     \u001b[38;5;28mself\u001b[39m\u001b[38;5;241m.\u001b[39m_iterating \u001b[38;5;241m=\u001b[39m \u001b[38;5;28;01mFalse\u001b[39;00m\n\u001b[0;32m   1097\u001b[0m \u001b[38;5;28;01mwith\u001b[39;00m \u001b[38;5;28mself\u001b[39m\u001b[38;5;241m.\u001b[39m_backend\u001b[38;5;241m.\u001b[39mretrieval_context():\n\u001b[1;32m-> 1098\u001b[0m     \u001b[38;5;28;43mself\u001b[39;49m\u001b[38;5;241;43m.\u001b[39;49m\u001b[43mretrieve\u001b[49m\u001b[43m(\u001b[49m\u001b[43m)\u001b[49m\n\u001b[0;32m   1099\u001b[0m \u001b[38;5;66;03m# Make sure that we get a last message telling us we are done\u001b[39;00m\n\u001b[0;32m   1100\u001b[0m elapsed_time \u001b[38;5;241m=\u001b[39m time\u001b[38;5;241m.\u001b[39mtime() \u001b[38;5;241m-\u001b[39m \u001b[38;5;28mself\u001b[39m\u001b[38;5;241m.\u001b[39m_start_time\n",
      "File \u001b[1;32mC:\\Python3\\lib\\site-packages\\joblib\\parallel.py:975\u001b[0m, in \u001b[0;36mParallel.retrieve\u001b[1;34m(self)\u001b[0m\n\u001b[0;32m    973\u001b[0m \u001b[38;5;28;01mtry\u001b[39;00m:\n\u001b[0;32m    974\u001b[0m     \u001b[38;5;28;01mif\u001b[39;00m \u001b[38;5;28mgetattr\u001b[39m(\u001b[38;5;28mself\u001b[39m\u001b[38;5;241m.\u001b[39m_backend, \u001b[38;5;124m'\u001b[39m\u001b[38;5;124msupports_timeout\u001b[39m\u001b[38;5;124m'\u001b[39m, \u001b[38;5;28;01mFalse\u001b[39;00m):\n\u001b[1;32m--> 975\u001b[0m         \u001b[38;5;28mself\u001b[39m\u001b[38;5;241m.\u001b[39m_output\u001b[38;5;241m.\u001b[39mextend(\u001b[43mjob\u001b[49m\u001b[38;5;241;43m.\u001b[39;49m\u001b[43mget\u001b[49m\u001b[43m(\u001b[49m\u001b[43mtimeout\u001b[49m\u001b[38;5;241;43m=\u001b[39;49m\u001b[38;5;28;43mself\u001b[39;49m\u001b[38;5;241;43m.\u001b[39;49m\u001b[43mtimeout\u001b[49m\u001b[43m)\u001b[49m)\n\u001b[0;32m    976\u001b[0m     \u001b[38;5;28;01melse\u001b[39;00m:\n\u001b[0;32m    977\u001b[0m         \u001b[38;5;28mself\u001b[39m\u001b[38;5;241m.\u001b[39m_output\u001b[38;5;241m.\u001b[39mextend(job\u001b[38;5;241m.\u001b[39mget())\n",
      "File \u001b[1;32mC:\\Python3\\lib\\multiprocessing\\pool.py:768\u001b[0m, in \u001b[0;36mApplyResult.get\u001b[1;34m(self, timeout)\u001b[0m\n\u001b[0;32m    767\u001b[0m \u001b[38;5;28;01mdef\u001b[39;00m \u001b[38;5;21mget\u001b[39m(\u001b[38;5;28mself\u001b[39m, timeout\u001b[38;5;241m=\u001b[39m\u001b[38;5;28;01mNone\u001b[39;00m):\n\u001b[1;32m--> 768\u001b[0m     \u001b[38;5;28;43mself\u001b[39;49m\u001b[38;5;241;43m.\u001b[39;49m\u001b[43mwait\u001b[49m\u001b[43m(\u001b[49m\u001b[43mtimeout\u001b[49m\u001b[43m)\u001b[49m\n\u001b[0;32m    769\u001b[0m     \u001b[38;5;28;01mif\u001b[39;00m \u001b[38;5;129;01mnot\u001b[39;00m \u001b[38;5;28mself\u001b[39m\u001b[38;5;241m.\u001b[39mready():\n\u001b[0;32m    770\u001b[0m         \u001b[38;5;28;01mraise\u001b[39;00m \u001b[38;5;167;01mTimeoutError\u001b[39;00m\n",
      "File \u001b[1;32mC:\\Python3\\lib\\multiprocessing\\pool.py:765\u001b[0m, in \u001b[0;36mApplyResult.wait\u001b[1;34m(self, timeout)\u001b[0m\n\u001b[0;32m    764\u001b[0m \u001b[38;5;28;01mdef\u001b[39;00m \u001b[38;5;21mwait\u001b[39m(\u001b[38;5;28mself\u001b[39m, timeout\u001b[38;5;241m=\u001b[39m\u001b[38;5;28;01mNone\u001b[39;00m):\n\u001b[1;32m--> 765\u001b[0m     \u001b[38;5;28;43mself\u001b[39;49m\u001b[38;5;241;43m.\u001b[39;49m\u001b[43m_event\u001b[49m\u001b[38;5;241;43m.\u001b[39;49m\u001b[43mwait\u001b[49m\u001b[43m(\u001b[49m\u001b[43mtimeout\u001b[49m\u001b[43m)\u001b[49m\n",
      "File \u001b[1;32mC:\\Python3\\lib\\threading.py:607\u001b[0m, in \u001b[0;36mEvent.wait\u001b[1;34m(self, timeout)\u001b[0m\n\u001b[0;32m    605\u001b[0m signaled \u001b[38;5;241m=\u001b[39m \u001b[38;5;28mself\u001b[39m\u001b[38;5;241m.\u001b[39m_flag\n\u001b[0;32m    606\u001b[0m \u001b[38;5;28;01mif\u001b[39;00m \u001b[38;5;129;01mnot\u001b[39;00m signaled:\n\u001b[1;32m--> 607\u001b[0m     signaled \u001b[38;5;241m=\u001b[39m \u001b[38;5;28;43mself\u001b[39;49m\u001b[38;5;241;43m.\u001b[39;49m\u001b[43m_cond\u001b[49m\u001b[38;5;241;43m.\u001b[39;49m\u001b[43mwait\u001b[49m\u001b[43m(\u001b[49m\u001b[43mtimeout\u001b[49m\u001b[43m)\u001b[49m\n\u001b[0;32m    608\u001b[0m \u001b[38;5;28;01mreturn\u001b[39;00m signaled\n",
      "File \u001b[1;32mC:\\Python3\\lib\\threading.py:320\u001b[0m, in \u001b[0;36mCondition.wait\u001b[1;34m(self, timeout)\u001b[0m\n\u001b[0;32m    318\u001b[0m \u001b[38;5;28;01mtry\u001b[39;00m:    \u001b[38;5;66;03m# restore state no matter what (e.g., KeyboardInterrupt)\u001b[39;00m\n\u001b[0;32m    319\u001b[0m     \u001b[38;5;28;01mif\u001b[39;00m timeout \u001b[38;5;129;01mis\u001b[39;00m \u001b[38;5;28;01mNone\u001b[39;00m:\n\u001b[1;32m--> 320\u001b[0m         \u001b[43mwaiter\u001b[49m\u001b[38;5;241;43m.\u001b[39;49m\u001b[43macquire\u001b[49m\u001b[43m(\u001b[49m\u001b[43m)\u001b[49m\n\u001b[0;32m    321\u001b[0m         gotit \u001b[38;5;241m=\u001b[39m \u001b[38;5;28;01mTrue\u001b[39;00m\n\u001b[0;32m    322\u001b[0m     \u001b[38;5;28;01melse\u001b[39;00m:\n",
      "\u001b[1;31mKeyboardInterrupt\u001b[0m: "
     ]
    }
   ],
   "source": [
    "import pandas as pd\n",
    "import numpy as np\n",
    "import matplotlib.pyplot as plt\n",
    "from sklearn.model_selection import train_test_split\n",
    "from sklearn.preprocessing import StandardScaler\n",
    "from sklearn.metrics import mean_squared_error\n",
    "from sklearn.ensemble import RandomForestRegressor, ExtraTreesRegressor\n",
    "from sklearn.tree import DecisionTreeRegressor\n",
    "import xgboost as xgb\n",
    "import lightgbm as lgb\n",
    "\n",
    "import pandas as pd\n",
    "import numpy as np\n",
    "import matplotlib.pyplot as plt\n",
    "from sklearn.model_selection import train_test_split\n",
    "from sklearn.preprocessing import StandardScaler\n",
    "from sklearn.metrics import mean_squared_error, r2_score\n",
    "from sklearn.ensemble import RandomForestRegressor, ExtraTreesRegressor\n",
    "from sklearn.tree import DecisionTreeRegressor\n",
    "import xgboost as xgb\n",
    "import lightgbm as lgb\n",
    "\n",
    "import pandas as pd\n",
    "import numpy as np\n",
    "import matplotlib.pyplot as plt\n",
    "from sklearn.metrics import mean_squared_error, r2_score\n",
    "\n",
    "def train_models_and_plot(names, models, X_train, X_test, y_train, y_test):\n",
    "    print(\"Starting model training and evaluation...\")\n",
    "#     scaler = StandardScaler()\n",
    "#     X_train = scaler.fit_transform(X_train)\n",
    "#     X_test = scaler.transform(X_test)\n",
    "    \n",
    "    performance = []\n",
    "    epsilon = 1e-6  # A small number to prevent division by zero\n",
    "\n",
    "    # Filter out zero or negative values from y_test for valid MAPE calculation\n",
    "    valid_indices = y_test > 0\n",
    "    y_test_filtered = y_test[valid_indices]\n",
    "    X_test_filtered = X_test[valid_indices]\n",
    "\n",
    "    for name, model in zip(names, models):\n",
    "        print(f\"Training model: {name}\")\n",
    "        model.fit(X_train, y_train)\n",
    "        y_pred_full = np.expm1(model.predict(X_test))\n",
    "        y_pred = y_pred_full[valid_indices]  # Apply the same filter to predictions\n",
    "        \n",
    "        rmse = np.sqrt(mean_squared_error(y_test_filtered, y_pred))\n",
    "        r2 = r2_score(y_test_filtered, y_pred)  # Calculate R2 score\n",
    "        \n",
    "        # Calculate MAPE with epsilon to handle division by small numbers\n",
    "        mape = np.mean(np.abs((y_test_filtered - y_pred) / (y_test_filtered + epsilon))) * 100\n",
    "        \n",
    "        print(f\"RMSE for {name}: {rmse}\")\n",
    "        print(f\"R2 Score for {name}: {r2}\")\n",
    "        print(f\"MAPE for {name}: {mape}%\")\n",
    "        \n",
    "        performance.append((name, rmse, r2, mape))\n",
    "    \n",
    "    perf_df = pd.DataFrame(performance, columns=['Model', 'RMSE', 'R2 Score', 'MAPE'])\n",
    "    print(\"Plotting model performance...\")\n",
    "    fig, ax1 = plt.subplots(figsize=(10, 6))\n",
    "    \n",
    "    perf_df.plot(kind='bar', x='Model', y='RMSE', ax=ax1, color='red', position=0, width=0.25)\n",
    "    ax2 = ax1.twinx()\n",
    "    perf_df.plot(kind='bar', x='Model', y='R2 Score', ax=ax2, color='blue', position=1, width=0.25)\n",
    "    ax3 = ax1.twinx()\n",
    "    ax3.spines['right'].set_position(('outward', 60))\n",
    "    perf_df.plot(kind='bar', x='Model', y='MAPE', ax=ax3, color='green', position=2, width=0.25)\n",
    "    \n",
    "    ax1.set_title('Model Performance: RMSE, R2 Score, and MAPE')\n",
    "    ax1.set_ylabel('RMSE', color='red')\n",
    "    ax2.set_ylabel('R2 Score', color='blue')\n",
    "    ax3.set_ylabel('MAPE (%)', color='green')\n",
    "    ax1.set_xlabel('Model')\n",
    "    ax1.grid()\n",
    "    plt.tight_layout()\n",
    "    plt.savefig('model_performance_with_mape.pdf')\n",
    "    print(\"Model performance plot saved as 'model_performance_with_mape.pdf'.\")\n",
    "\n",
    "\n",
    "\n",
    "def plot_feature_importance(model, X, model_name):\n",
    "    \"\"\"\n",
    "    Plot and save the feature importances of the given model, focusing on the top 10 features.\n",
    "\n",
    "    Args:\n",
    "    - model: The trained model object.\n",
    "    - X (DataFrame): The feature dataset.\n",
    "    - model_name (str): The name of the model, used for titling and naming the output file.\n",
    "    \"\"\"\n",
    "    print(f\"Plotting top 10 feature importances for {model_name}...\")\n",
    "    importances = model.feature_importances_\n",
    "    indices = np.argsort(importances)[-12:]  # Get indices of top 10 features\n",
    "    # Adjust the plotting to focus on these top 10 features\n",
    "    plt.figure(figsize=(5, 4))\n",
    "    plt.title(f\"Top 10 Feature Importances for {model_name}\")\n",
    "    plt.bar(range(12), importances[indices], color=\"r\", align=\"center\")\n",
    "    # Use the indices to map back to feature names\n",
    "    plt.xticks(range(12), X.columns[indices], rotation=45, ha=\"right\")\n",
    "    plt.xlim([-1, 12])  # Adjust xlim to focus on top 10 features\n",
    "    plt.grid()\n",
    "    plt.tight_layout()\n",
    "    filename = f'top_10_feature_importance_{model_name.replace(\" \", \"_\").lower()}.pdf'\n",
    "    plt.savefig(filename)\n",
    "    print(f\"Top 12 feature importance plot saved as '{filename}'.\")\n",
    "    plt.close()  # Close the plot to free memory and avoid overlap in subsequent plots\n",
    "\n",
    "\n",
    "\n",
    "def main():\n",
    "    print(\"Script started...\")\n",
    "    # Example DataFrame creation\n",
    "    # Replace this with your actual data loading logic\n",
    "#     np.random.seed(42)\n",
    "#     df = pd.DataFrame(np.random.rand(100, 4), columns=['Feature1', 'Feature2', 'Feature3', 'Feature4'])\n",
    "#     df['duration'] = np.random.rand(100) * 100  # Synthetic target variable\n",
    "\n",
    "    names = [\"XGBoost\", \"LightGBM\", \"Random Forest\", \"Extra Trees\", \"Decision Tree\"]\n",
    "    models = [\n",
    "        xgb.XGBRegressor(n_estimators=200, objective='reg:squarederror'),\n",
    "        lgb.LGBMRegressor(n_estimators=200, random_state=42),\n",
    "        RandomForestRegressor(n_estimators=200, n_jobs=10, random_state=42),\n",
    "        ExtraTreesRegressor (n_estimators=200,n_jobs=10, random_state=42),\n",
    "        DecisionTreeRegressor(random_state=42)\n",
    "    ]\n",
    "\n",
    "    # Data preparation and model training...\n",
    "    \n",
    "    # Plot feature importances for each model\n",
    "\n",
    "        \n",
    "    X = df.drop(['duration'], axis=1)\n",
    "    y = np.log1p(df['duration'])  # Apply log1p transformation for regression targets\n",
    "    X_train, X_test, y_train, y_test = train_test_split(X, y, test_size=0.2, random_state=42)\n",
    "    \n",
    "    train_models_and_plot(names, models, X_train, X_test, y_train, y_test)\n",
    "    \n",
    "    for model, name in zip(models, names):\n",
    "        plot_feature_importance(model, X, name)\n",
    "    # Example of plotting feature importance for Extra Trees model\n",
    "#     plot_feature_importance(models[-1], X)  # Extra Trees for feature importance\n",
    "    \n",
    "    print(\"Script completed successfully.\")\n",
    "\n",
    "if __name__ == '__main__':\n",
    "    main()\n"
   ]
  },
  {
   "cell_type": "code",
   "execution_count": null,
   "id": "3ef633f8",
   "metadata": {},
   "outputs": [],
   "source": []
  },
  {
   "cell_type": "code",
   "execution_count": null,
   "id": "cc5774db",
   "metadata": {},
   "outputs": [],
   "source": []
  },
  {
   "cell_type": "code",
   "execution_count": null,
   "id": "26790e17",
   "metadata": {},
   "outputs": [],
   "source": []
  },
  {
   "cell_type": "code",
   "execution_count": null,
   "id": "0d5c2833",
   "metadata": {},
   "outputs": [],
   "source": []
  },
  {
   "cell_type": "code",
   "execution_count": 30,
   "id": "84b601e1",
   "metadata": {},
   "outputs": [
    {
     "name": "stderr",
     "output_type": "stream",
     "text": [
      "No data for colormapping provided via 'c'. Parameters 'vmin', 'vmax' will be ignored\n"
     ]
    }
   ],
   "source": [
    "import numpy as np\n",
    "import pandas as pd\n",
    "import xgboost as xgb\n",
    "import shap\n",
    "import matplotlib.pyplot as plt\n",
    "\n",
    "# Assuming df is your DataFrame and it's already defined\n",
    "X = df.drop(['duration'], axis=1)\n",
    "y = df['duration']  # Log transform the target variable\n",
    "\n",
    "# Convert the dataset into XGBoost's DMatrix format\n",
    "dtrain = xgb.DMatrix(X, label=y, feature_names=X.columns)\n",
    "\n",
    "# Define the parameters for the XGBoost model\n",
    "params = {\n",
    "    'objective': 'reg:squaredlogerror',\n",
    "    'eval_metric': 'rmse',\n",
    "    'booster': 'gbtree',\n",
    "    'random_state': 42\n",
    "}\n",
    "\n",
    "# Train the model\n",
    "model = xgb.train(params, dtrain, num_boost_round=100)\n",
    "\n",
    "# Initialize SHAP explainer and compute SHAP values\n",
    "explainer = shap.Explainer(model)\n",
    "shap_values = explainer.shap_values(X)\n",
    "\n",
    "# Calculate feature importance as the sum of absolute SHAP values\n",
    "feature_importance = np.sum(np.abs(shap_values), axis=0)\n",
    "sorted_features_idx = np.argsort(-feature_importance)[:12]\n",
    "\n",
    "# Prepare for plotting\n",
    "top_features_names = X.columns[sorted_features_idx]\n",
    "filtered_shap_values = shap_values[:, sorted_features_idx]\n",
    "\n",
    "# Plotting the SHAP summary plot for the top 12 features\n",
    "plt.figure(figsize=(10, 6))\n",
    "shap.summary_plot(filtered_shap_values, X.iloc[:, sorted_features_idx], feature_names=top_features_names,show=False)\n",
    "plt.tight_layout()\n",
    "# Save the plot\n",
    "plt.savefig('top_12_feature_importance_summary_original_scale_xgboost.pdf', bbox_inches='tight')\n",
    "plt.close()\n"
   ]
  },
  {
   "cell_type": "code",
   "execution_count": null,
   "id": "d9b676f6",
   "metadata": {},
   "outputs": [],
   "source": []
  },
  {
   "cell_type": "code",
   "execution_count": null,
   "id": "70674d2e",
   "metadata": {},
   "outputs": [],
   "source": []
  },
  {
   "cell_type": "code",
   "execution_count": null,
   "id": "5e21ad2a",
   "metadata": {},
   "outputs": [],
   "source": []
  },
  {
   "cell_type": "code",
   "execution_count": null,
   "id": "08ba27ae",
   "metadata": {},
   "outputs": [],
   "source": [
    "import pandas as pd\n",
    "import numpy as np\n",
    "import matplotlib.pyplot as plt\n",
    "from sklearn.model_selection import train_test_split\n",
    "from sklearn.metrics import accuracy_score, f1_score\n",
    "from xgboost import XGBClassifier\n",
    "\n",
    "def train_and_evaluate_for_thresholds(X, y_values, thresholds):\n",
    "    performances = []\n",
    "    class_balances = []  # To store class balance for each threshold\n",
    "    for threshold in thresholds:\n",
    "        y = (y_values > threshold).astype(int)\n",
    "        class_balance = y.mean() * 100  # Percentage of positive class\n",
    "        class_balances.append(class_balance)\n",
    "\n",
    "        X_train, X_test, y_train, y_test = train_test_split(X, y, test_size=0.2, random_state=42)\n",
    "        model = XGBClassifier(use_label_encoder=False, eval_metric='logloss')\n",
    "        model.fit(X_train, y_train)\n",
    "        y_pred = model.predict(X_test)\n",
    "\n",
    "        accuracy = accuracy_score(y_test, y_pred)\n",
    "        f1 = f1_score(y_test, y_pred, average='binary')\n",
    "        performances.append((threshold, accuracy, f1))\n",
    "        print(f\"Threshold: {threshold}, Accuracy: {accuracy:.2f}, F1 Score: {f1:.2f}, Class Balance: {class_balance:.2f}%\")\n",
    "    \n",
    "    perf_df = pd.DataFrame(performances, columns=['Threshold', 'Accuracy', 'F1 Score'])\n",
    "    perf_df['Class Balance'] = class_balances  # Append class balance to the DataFrame\n",
    "    return perf_df\n",
    "\n",
    "def plot_performance(perf_df):\n",
    "    fig, ax1 = plt.subplots(figsize=(6, 5))\n",
    "\n",
    "    # Plot Accuracy with primary axis\n",
    "    color = 'tab:blue'\n",
    "    ax1.set_xlabel('Threshold (minutes)')\n",
    "    ax1.set_ylabel('Accuracy', color=color)\n",
    "    ax1.plot(perf_df['Threshold'], perf_df['Accuracy'], marker='o', color=color)\n",
    "    ax1.tick_params(axis='y', labelcolor=color)\n",
    "    ax1.grid(True)\n",
    "\n",
    "    # Create a second y-axis for class balance\n",
    "    ax2 = ax1.twinx()  \n",
    "    color = 'tab:red'\n",
    "    ax2.set_ylabel('Class Balance (%)', color=color)\n",
    "    ax2.plot(perf_df['Threshold'], perf_df['Class Balance'], marker='o', color=color)\n",
    "    ax2.tick_params(axis='y', labelcolor=color)\n",
    "\n",
    "    # Add a horizontal line at 50% class balance\n",
    "    ax2.axhline(50, color='red', linestyle='--', linewidth=1.8)\n",
    "    ax2.annotate('50% balance', xy=(0.95, 0.5), xycoords='axes fraction', color='red', horizontalalignment='right')\n",
    "\n",
    "    fig.tight_layout()  # To adjust plot to fit labels\n",
    "    plt.title('Accuracy and Class Balance by Threshold')\n",
    "    plt.savefig('accuracy_and_class_balance_by_threshold.pdf')\n",
    "    print(\"Performance plot saved as 'accuracy_and_class_balance_by_threshold.pdf'.\")\n",
    "    plt.show()\n",
    "\n",
    "def main():\n",
    "    print(\"Script started...\")\n",
    "    # Assuming df is already defined\n",
    "    X = df.drop(['duration'], axis=1)\n",
    "    y_values = df['duration']\n",
    "\n",
    "    thresholds = range(20, 65, 5)\n",
    "    perf_df = train_and_evaluate_for_thresholds(X, y_values, thresholds)\n",
    "    plot_performance(perf_df)\n",
    "\n",
    "    print(\"Script completed successfully.\")\n",
    "\n",
    "if __name__ == '__main__':\n",
    "    main()\n"
   ]
  },
  {
   "cell_type": "code",
   "execution_count": null,
   "id": "9dc2beda",
   "metadata": {},
   "outputs": [],
   "source": []
  },
  {
   "cell_type": "code",
   "execution_count": null,
   "id": "42e51186",
   "metadata": {},
   "outputs": [],
   "source": []
  },
  {
   "cell_type": "code",
   "execution_count": null,
   "id": "7580617f",
   "metadata": {},
   "outputs": [],
   "source": []
  },
  {
   "cell_type": "code",
   "execution_count": null,
   "id": "1640d793",
   "metadata": {},
   "outputs": [],
   "source": []
  },
  {
   "cell_type": "code",
   "execution_count": null,
   "id": "11b8b90d",
   "metadata": {},
   "outputs": [],
   "source": []
  },
  {
   "cell_type": "code",
   "execution_count": null,
   "id": "84d53d4f",
   "metadata": {},
   "outputs": [],
   "source": []
  },
  {
   "cell_type": "code",
   "execution_count": null,
   "id": "8ec7bd70",
   "metadata": {},
   "outputs": [],
   "source": []
  },
  {
   "cell_type": "code",
   "execution_count": null,
   "id": "8da3f1f7",
   "metadata": {},
   "outputs": [],
   "source": []
  },
  {
   "cell_type": "code",
   "execution_count": null,
   "id": "b237e622",
   "metadata": {},
   "outputs": [],
   "source": []
  },
  {
   "cell_type": "code",
   "execution_count": 32,
   "id": "6e1b4f7b",
   "metadata": {},
   "outputs": [
    {
     "name": "stdout",
     "output_type": "stream",
     "text": [
      "Script started...\n"
     ]
    },
    {
     "name": "stderr",
     "output_type": "stream",
     "text": [
      "`use_label_encoder` is deprecated in 1.7.0.\n"
     ]
    },
    {
     "name": "stdout",
     "output_type": "stream",
     "text": [
      "Threshold: 20, Accuracy: 0.70, F1 Score: 0.79, Class Balance: 64.50%\n"
     ]
    },
    {
     "name": "stderr",
     "output_type": "stream",
     "text": [
      "`use_label_encoder` is deprecated in 1.7.0.\n"
     ]
    },
    {
     "name": "stdout",
     "output_type": "stream",
     "text": [
      "Threshold: 25, Accuracy: 0.67, F1 Score: 0.71, Class Balance: 55.49%\n"
     ]
    },
    {
     "name": "stderr",
     "output_type": "stream",
     "text": [
      "`use_label_encoder` is deprecated in 1.7.0.\n"
     ]
    },
    {
     "name": "stdout",
     "output_type": "stream",
     "text": [
      "Threshold: 30, Accuracy: 0.67, F1 Score: 0.64, Class Balance: 47.53%\n"
     ]
    },
    {
     "name": "stderr",
     "output_type": "stream",
     "text": [
      "`use_label_encoder` is deprecated in 1.7.0.\n"
     ]
    },
    {
     "name": "stdout",
     "output_type": "stream",
     "text": [
      "Threshold: 35, Accuracy: 0.69, F1 Score: 0.57, Class Balance: 40.47%\n"
     ]
    },
    {
     "name": "stderr",
     "output_type": "stream",
     "text": [
      "`use_label_encoder` is deprecated in 1.7.0.\n"
     ]
    },
    {
     "name": "stdout",
     "output_type": "stream",
     "text": [
      "Threshold: 40, Accuracy: 0.71, F1 Score: 0.50, Class Balance: 34.59%\n"
     ]
    },
    {
     "name": "stderr",
     "output_type": "stream",
     "text": [
      "`use_label_encoder` is deprecated in 1.7.0.\n"
     ]
    },
    {
     "name": "stdout",
     "output_type": "stream",
     "text": [
      "Threshold: 45, Accuracy: 0.74, F1 Score: 0.44, Class Balance: 29.53%\n"
     ]
    },
    {
     "name": "stderr",
     "output_type": "stream",
     "text": [
      "`use_label_encoder` is deprecated in 1.7.0.\n"
     ]
    },
    {
     "name": "stdout",
     "output_type": "stream",
     "text": [
      "Threshold: 50, Accuracy: 0.77, F1 Score: 0.38, Class Balance: 25.44%\n"
     ]
    },
    {
     "name": "stderr",
     "output_type": "stream",
     "text": [
      "`use_label_encoder` is deprecated in 1.7.0.\n"
     ]
    },
    {
     "name": "stdout",
     "output_type": "stream",
     "text": [
      "Threshold: 55, Accuracy: 0.79, F1 Score: 0.34, Class Balance: 22.02%\n"
     ]
    },
    {
     "name": "stderr",
     "output_type": "stream",
     "text": [
      "`use_label_encoder` is deprecated in 1.7.0.\n"
     ]
    },
    {
     "name": "stdout",
     "output_type": "stream",
     "text": [
      "Threshold: 60, Accuracy: 0.82, F1 Score: 0.31, Class Balance: 19.27%\n",
      "Performance plot saved as 'performance_by_threshold.pdf'.\n"
     ]
    },
    {
     "data": {
      "image/png": "[encoded data removed]",
      "text/plain": [
       "<Figure size 1800x500 with 3 Axes>"
      ]
     },
     "metadata": {},
     "output_type": "display_data"
    },
    {
     "name": "stdout",
     "output_type": "stream",
     "text": [
      "Script completed successfully.\n"
     ]
    }
   ],
   "source": [
    "import pandas as pd\n",
    "import numpy as np\n",
    "import matplotlib.pyplot as plt\n",
    "from sklearn.model_selection import train_test_split\n",
    "from sklearn.metrics import accuracy_score, f1_score\n",
    "from xgboost import XGBClassifier\n",
    "\n",
    "def train_and_evaluate_for_thresholds(X, y_values, thresholds):\n",
    "    performances = []\n",
    "    class_balances = []  # To store class balance for each threshold\n",
    "    for threshold in thresholds:\n",
    "        y = (y_values > threshold).astype(int)\n",
    "        class_balance = y.mean() * 100  # Percentage of positive class\n",
    "        class_balances.append(class_balance)\n",
    "\n",
    "        X_train, X_test, y_train, y_test = train_test_split(X, y, test_size=0.2, random_state=42)\n",
    "        model = XGBClassifier(use_label_encoder=False, eval_metric='logloss')\n",
    "        model.fit(X_train, y_train)\n",
    "        y_pred = model.predict(X_test)\n",
    "\n",
    "        accuracy = accuracy_score(y_test, y_pred)\n",
    "        f1 = f1_score(y_test, y_pred, average='binary')\n",
    "        performances.append((threshold, accuracy, f1))\n",
    "        print(f\"Threshold: {threshold}, Accuracy: {accuracy:.2f}, F1 Score: {f1:.2f}, Class Balance: {class_balance:.2f}%\")\n",
    "    \n",
    "    perf_df = pd.DataFrame(performances, columns=['Threshold', 'Accuracy', 'F1 Score'])\n",
    "    perf_df['Class Balance'] = class_balances  # Append class balance to the DataFrame\n",
    "    return perf_df\n",
    "\n",
    "def plot_performance(perf_df):\n",
    "    fig, ax = plt.subplots(1, 3, figsize=(18, 5))  # Increased to three subplots\n",
    "\n",
    "    # Plot Accuracy\n",
    "    ax[0].plot(perf_df['Threshold'], perf_df['Accuracy'], marker='o', color='blue', label='Accuracy')\n",
    "    ax[0].set_title('Accuracy by Threshold')\n",
    "    ax[0].set_xlabel('Threshold (minutes)')\n",
    "    ax[0].set_ylabel('Accuracy')\n",
    "    ax[0].grid(True)\n",
    "    \n",
    "    # Plot F1 Score\n",
    "    ax[1].plot(perf_df['Threshold'], perf_df['F1 Score'], marker='o', color='green', label='F1 Score')\n",
    "    ax[1].set_title('F1 Score by Threshold')\n",
    "    ax[1].set_xlabel('Threshold (minutes)')\n",
    "    ax[1].set_ylabel('F1 Score')\n",
    "    ax[1].grid(True)\n",
    "\n",
    "    # Plot Class Balance\n",
    "    ax[2].plot(perf_df['Threshold'], perf_df['Class Balance'], marker='o', color='red', label='Class Balance')\n",
    "    ax[2].set_title('Class Balance by Threshold')\n",
    "    ax[2].set_xlabel('Threshold (minutes)')\n",
    "    ax[2].set_ylabel('Class Balance (%)')\n",
    "    ax[2].grid(True)\n",
    "\n",
    "    plt.tight_layout()\n",
    "    plt.savefig('performance_by_threshold.pdf')\n",
    "    print(\"Performance plot saved as 'performance_by_threshold.pdf'.\")\n",
    "    plt.show()\n",
    "\n",
    "def main():\n",
    "    print(\"Script started...\")\n",
    "    # Assuming df is already defined\n",
    "    X = df.drop(['duration'], axis=1)\n",
    "    y_values = df['duration']\n",
    "\n",
    "    thresholds = range(20, 65, 5)\n",
    "    perf_df = train_and_evaluate_for_thresholds(X, y_values, thresholds)\n",
    "    plot_performance(perf_df)\n",
    "\n",
    "    print(\"Script completed successfully.\")\n",
    "\n",
    "if __name__ == '__main__':\n",
    "    main()\n"
   ]
  },
  {
   "cell_type": "code",
   "execution_count": null,
   "id": "c3157b39",
   "metadata": {},
   "outputs": [],
   "source": []
  },
  {
   "cell_type": "code",
   "execution_count": 33,
   "id": "60f12616",
   "metadata": {},
   "outputs": [
    {
     "name": "stdout",
     "output_type": "stream",
     "text": [
      "Script started...\n"
     ]
    },
    {
     "name": "stderr",
     "output_type": "stream",
     "text": [
      "`use_label_encoder` is deprecated in 1.7.0.\n"
     ]
    },
    {
     "name": "stdout",
     "output_type": "stream",
     "text": [
      "Threshold: 20, Accuracy: 0.70, F1 Score: 0.79, Class Balance: 64.50%\n"
     ]
    },
    {
     "name": "stderr",
     "output_type": "stream",
     "text": [
      "`use_label_encoder` is deprecated in 1.7.0.\n"
     ]
    },
    {
     "name": "stdout",
     "output_type": "stream",
     "text": [
      "Threshold: 25, Accuracy: 0.67, F1 Score: 0.71, Class Balance: 55.49%\n"
     ]
    },
    {
     "name": "stderr",
     "output_type": "stream",
     "text": [
      "`use_label_encoder` is deprecated in 1.7.0.\n"
     ]
    },
    {
     "name": "stdout",
     "output_type": "stream",
     "text": [
      "Threshold: 30, Accuracy: 0.67, F1 Score: 0.64, Class Balance: 47.53%\n"
     ]
    },
    {
     "name": "stderr",
     "output_type": "stream",
     "text": [
      "`use_label_encoder` is deprecated in 1.7.0.\n"
     ]
    },
    {
     "name": "stdout",
     "output_type": "stream",
     "text": [
      "Threshold: 35, Accuracy: 0.69, F1 Score: 0.57, Class Balance: 40.47%\n"
     ]
    },
    {
     "name": "stderr",
     "output_type": "stream",
     "text": [
      "`use_label_encoder` is deprecated in 1.7.0.\n"
     ]
    },
    {
     "name": "stdout",
     "output_type": "stream",
     "text": [
      "Threshold: 40, Accuracy: 0.71, F1 Score: 0.50, Class Balance: 34.59%\n"
     ]
    },
    {
     "name": "stderr",
     "output_type": "stream",
     "text": [
      "`use_label_encoder` is deprecated in 1.7.0.\n"
     ]
    },
    {
     "name": "stdout",
     "output_type": "stream",
     "text": [
      "Threshold: 45, Accuracy: 0.74, F1 Score: 0.44, Class Balance: 29.53%\n"
     ]
    },
    {
     "name": "stderr",
     "output_type": "stream",
     "text": [
      "`use_label_encoder` is deprecated in 1.7.0.\n"
     ]
    },
    {
     "name": "stdout",
     "output_type": "stream",
     "text": [
      "Threshold: 50, Accuracy: 0.77, F1 Score: 0.38, Class Balance: 25.44%\n"
     ]
    },
    {
     "name": "stderr",
     "output_type": "stream",
     "text": [
      "`use_label_encoder` is deprecated in 1.7.0.\n"
     ]
    },
    {
     "name": "stdout",
     "output_type": "stream",
     "text": [
      "Threshold: 55, Accuracy: 0.79, F1 Score: 0.34, Class Balance: 22.02%\n"
     ]
    },
    {
     "name": "stderr",
     "output_type": "stream",
     "text": [
      "`use_label_encoder` is deprecated in 1.7.0.\n"
     ]
    },
    {
     "name": "stdout",
     "output_type": "stream",
     "text": [
      "Threshold: 60, Accuracy: 0.82, F1 Score: 0.31, Class Balance: 19.27%\n",
      "Performance plot saved as 'accuracy_and_class_balance_by_threshold.pdf'.\n"
     ]
    },
    {
     "data": {
      "image/png": "[encoded data removed]",
      "text/plain": [
       "<Figure size 1000x500 with 2 Axes>"
      ]
     },
     "metadata": {},
     "output_type": "display_data"
    },
    {
     "name": "stdout",
     "output_type": "stream",
     "text": [
      "Script completed successfully.\n"
     ]
    }
   ],
   "source": [
    "import pandas as pd\n",
    "import numpy as np\n",
    "import matplotlib.pyplot as plt\n",
    "from sklearn.model_selection import train_test_split\n",
    "from sklearn.metrics import accuracy_score, f1_score\n",
    "from xgboost import XGBClassifier\n",
    "\n",
    "def train_and_evaluate_for_thresholds(X, y_values, thresholds):\n",
    "    performances = []\n",
    "    class_balances = []  # To store class balance for each threshold\n",
    "    for threshold in thresholds:\n",
    "        y = (y_values > threshold).astype(int)\n",
    "        class_balance = y.mean() * 100  # Percentage of positive class\n",
    "        class_balances.append(class_balance)\n",
    "\n",
    "        X_train, X_test, y_train, y_test = train_test_split(X, y, test_size=0.2, random_state=42)\n",
    "        model = XGBClassifier(use_label_encoder=False, eval_metric='logloss')\n",
    "        model.fit(X_train, y_train)\n",
    "        y_pred = model.predict(X_test)\n",
    "\n",
    "        accuracy = accuracy_score(y_test, y_pred)\n",
    "        f1 = f1_score(y_test, y_pred, average='binary')\n",
    "        performances.append((threshold, accuracy, f1))\n",
    "        print(f\"Threshold: {threshold}, Accuracy: {accuracy:.2f}, F1 Score: {f1:.2f}, Class Balance: {class_balance:.2f}%\")\n",
    "    \n",
    "    perf_df = pd.DataFrame(performances, columns=['Threshold', 'Accuracy', 'F1 Score'])\n",
    "    perf_df['Class Balance'] = class_balances  # Append class balance to the DataFrame\n",
    "    return perf_df\n",
    "\n",
    "def plot_performance(perf_df):\n",
    "    fig, ax1 = plt.subplots(figsize=(6, 5))\n",
    "\n",
    "    # Plot Accuracy with primary axis\n",
    "    color = 'tab:blue'\n",
    "    ax1.set_xlabel('Threshold (minutes)')\n",
    "    ax1.set_ylabel('Accuracy', color=color)\n",
    "    ax1.plot(perf_df['Threshold'], perf_df['Accuracy'], marker='o', color=color)\n",
    "    ax1.tick_params(axis='y', labelcolor=color)\n",
    "    ax1.grid(True)\n",
    "\n",
    "    # Create a second y-axis for class balance\n",
    "    ax2 = ax1.twinx()  \n",
    "    color = 'tab:red'\n",
    "    ax2.set_ylabel('Class Balance (%)', color=color)\n",
    "    ax2.plot(perf_df['Threshold'], perf_df['Class Balance'], marker='o', color=color)\n",
    "    ax2.tick_params(axis='y', labelcolor=color)\n",
    "\n",
    "    fig.tight_layout()  # To adjust plot to fit labels\n",
    "    plt.title('Accuracy and Class Balance by Threshold')\n",
    "    plt.savefig('accuracy_and_class_balance_by_threshold.pdf')\n",
    "    print(\"Performance plot saved as 'accuracy_and_class_balance_by_threshold.pdf'.\")\n",
    "    plt.show()\n",
    "\n",
    "def main():\n",
    "    print(\"Script started...\")\n",
    "    # Assuming df is already defined\n",
    "    X = df.drop(['duration'], axis=1)\n",
    "    y_values = df['duration']\n",
    "\n",
    "    thresholds = range(20, 65, 5)\n",
    "    perf_df = train_and_evaluate_for_thresholds(X, y_values, thresholds)\n",
    "    plot_performance(perf_df)\n",
    "\n",
    "    print(\"Script completed successfully.\")\n",
    "\n",
    "if __name__ == '__main__':\n",
    "    main()\n"
   ]
  },
  {
   "cell_type": "code",
   "execution_count": null,
   "id": "66b3e453",
   "metadata": {},
   "outputs": [],
   "source": []
  },
  {
   "cell_type": "code",
   "execution_count": 36,
   "id": "b11dd2a0",
   "metadata": {},
   "outputs": [
    {
     "name": "stdout",
     "output_type": "stream",
     "text": [
      "Script started...\n"
     ]
    },
    {
     "name": "stderr",
     "output_type": "stream",
     "text": [
      "`use_label_encoder` is deprecated in 1.7.0.\n"
     ]
    },
    {
     "name": "stdout",
     "output_type": "stream",
     "text": [
      "Threshold: 20, Accuracy: 0.70, F1 Score: 0.79, Class Balance: 64.50%\n"
     ]
    },
    {
     "name": "stderr",
     "output_type": "stream",
     "text": [
      "`use_label_encoder` is deprecated in 1.7.0.\n"
     ]
    },
    {
     "name": "stdout",
     "output_type": "stream",
     "text": [
      "Threshold: 25, Accuracy: 0.67, F1 Score: 0.71, Class Balance: 55.49%\n"
     ]
    },
    {
     "name": "stderr",
     "output_type": "stream",
     "text": [
      "`use_label_encoder` is deprecated in 1.7.0.\n"
     ]
    },
    {
     "name": "stdout",
     "output_type": "stream",
     "text": [
      "Threshold: 30, Accuracy: 0.67, F1 Score: 0.64, Class Balance: 47.53%\n"
     ]
    },
    {
     "name": "stderr",
     "output_type": "stream",
     "text": [
      "`use_label_encoder` is deprecated in 1.7.0.\n"
     ]
    },
    {
     "name": "stdout",
     "output_type": "stream",
     "text": [
      "Threshold: 35, Accuracy: 0.69, F1 Score: 0.57, Class Balance: 40.47%\n"
     ]
    },
    {
     "name": "stderr",
     "output_type": "stream",
     "text": [
      "`use_label_encoder` is deprecated in 1.7.0.\n"
     ]
    },
    {
     "name": "stdout",
     "output_type": "stream",
     "text": [
      "Threshold: 40, Accuracy: 0.71, F1 Score: 0.50, Class Balance: 34.59%\n"
     ]
    },
    {
     "name": "stderr",
     "output_type": "stream",
     "text": [
      "`use_label_encoder` is deprecated in 1.7.0.\n"
     ]
    },
    {
     "name": "stdout",
     "output_type": "stream",
     "text": [
      "Threshold: 45, Accuracy: 0.74, F1 Score: 0.44, Class Balance: 29.53%\n"
     ]
    },
    {
     "name": "stderr",
     "output_type": "stream",
     "text": [
      "`use_label_encoder` is deprecated in 1.7.0.\n"
     ]
    },
    {
     "name": "stdout",
     "output_type": "stream",
     "text": [
      "Threshold: 50, Accuracy: 0.77, F1 Score: 0.38, Class Balance: 25.44%\n"
     ]
    },
    {
     "name": "stderr",
     "output_type": "stream",
     "text": [
      "`use_label_encoder` is deprecated in 1.7.0.\n"
     ]
    },
    {
     "name": "stdout",
     "output_type": "stream",
     "text": [
      "Threshold: 55, Accuracy: 0.79, F1 Score: 0.34, Class Balance: 22.02%\n"
     ]
    },
    {
     "name": "stderr",
     "output_type": "stream",
     "text": [
      "`use_label_encoder` is deprecated in 1.7.0.\n"
     ]
    },
    {
     "name": "stdout",
     "output_type": "stream",
     "text": [
      "Threshold: 60, Accuracy: 0.82, F1 Score: 0.31, Class Balance: 19.27%\n",
      "Performance plot saved as 'accuracy_and_class_balance_by_threshold.pdf'.\n"
     ]
    },
    {
     "data": {
      "image/png": "[encoded data removed]",
      "text/plain": [
       "<Figure size 600x500 with 2 Axes>"
      ]
     },
     "metadata": {},
     "output_type": "display_data"
    },
    {
     "name": "stdout",
     "output_type": "stream",
     "text": [
      "Script completed successfully.\n"
     ]
    }
   ],
   "source": []
  },
  {
   "cell_type": "code",
   "execution_count": null,
   "id": "e098e306",
   "metadata": {},
   "outputs": [],
   "source": []
  }
 ],
 "metadata": {
  "kernelspec": {
   "display_name": "Python 3 (ipykernel)",
   "language": "python",
   "name": "python3"
  },
  "language_info": {
   "codemirror_mode": {
    "name": "ipython",
    "version": 3
   },
   "file_extension": ".py",
   "mimetype": "text/x-python",
   "name": "python",
   "nbconvert_exporter": "python",
   "pygments_lexer": "ipython3",
   "version": "3.10.9"
  }
 },
 "nbformat": 4,
 "nbformat_minor": 5
}
